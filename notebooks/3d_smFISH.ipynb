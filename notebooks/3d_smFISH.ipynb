{
 "cells": [
  {
   "cell_type": "markdown",
   "metadata": {},
   "source": [
    "# Reproduce Allen smFISH results with Starfish\n",
    "\n",
    "This notebook walks through a work flow that analyzes one field of view of a mouse gene panel from the Allen Institute for Cell Science, using the starfish package."
   ]
  },
  {
   "cell_type": "markdown",
   "metadata": {},
   "source": [
    "The 3d smFISH workflow run by the allen runs a bandpass filter to remove high and low frequency signal and blurs over z with a 1-pixel gaussian to smooth the signal over the z-axis. low-intensity signal is (stringently) clipped from the images before and after these filters. \n",
    "\n",
    "Spots are then detected using a spot finder based on trackpy's locate method, which identifies local intensity maxima, and spots are matched to the gene they represent by looking them up in a codebook that records which (round, channel) matches which gene target. "
   ]
  },
  {
   "cell_type": "markdown",
   "metadata": {},
   "source": [
    "## Load imports"
   ]
  },
  {
   "cell_type": "code",
   "execution_count": 1,
   "metadata": {},
   "outputs": [],
   "source": [
    "%gui qt5\n",
    "\n",
    "import os\n",
    "from typing import Optional, Tuple\n",
    "\n",
    "import napari_gui\n",
    "import numpy as np\n",
    "\n",
    "import starfish\n",
    "import starfish.display\n",
    "from starfish import data, FieldOfView"
   ]
  },
  {
   "cell_type": "markdown",
   "metadata": {},
   "source": [
    "## Initialize Pipeline Components with pre-selected parameters"
   ]
  },
  {
   "cell_type": "code",
   "execution_count": 2,
   "metadata": {},
   "outputs": [],
   "source": [
    "# bandpass filter to remove cellular background and camera noise\n",
    "bandpass = starfish.image.Filter.Bandpass(lshort=.5, llong=7, threshold=0.0)\n",
    "\n",
    "# gaussian blur to smooth z-axis\n",
    "glp = starfish.image.Filter.GaussianLowPass(\n",
    "    sigma=(1, 0, 0),\n",
    "    is_volume=True\n",
    ")\n",
    "\n",
    "# pre-filter clip to remove low-intensity background signal\n",
    "clip1 = starfish.image.Filter.Clip(p_min=50, p_max=100)\n",
    "\n",
    "# post-filter clip to eliminate all but the highest-intensity peaks\n",
    "clip2 = starfish.image.Filter.Clip(p_min=99, p_max=100, is_volume=True)\n",
    "\n",
    "# peak caller\n",
    "tlmpf = starfish.spots.SpotFinder.TrackpyLocalMaxPeakFinder(\n",
    "    spot_diameter=5, # must be odd integer\n",
    "    min_mass=0.02,\n",
    "    max_size=2,  # this is max radius\n",
    "    separation=7,\n",
    "    noise_size=0.65,  # this is not used because preprocess is False\n",
    "    preprocess=False,\n",
    "    percentile=10,  # this is irrelevant when min_mass, spot_diameter, and max_size are set properly\n",
    "    verbose=True,\n",
    "    is_volume=True,\n",
    ")"
   ]
  },
  {
   "cell_type": "markdown",
   "metadata": {},
   "source": [
    "## Combine pipeline components into a pipeline"
   ]
  },
  {
   "cell_type": "markdown",
   "metadata": {},
   "source": [
    "Define a function that identifies spots of a field of view. "
   ]
  },
  {
   "cell_type": "code",
   "execution_count": 3,
   "metadata": {},
   "outputs": [],
   "source": [
    "def allen_pipeline(\n",
    "    experiment: starfish.Experiment, \n",
    "    fov_name: str, \n",
    "    n_processes: Optional[int]=None\n",
    ") -> Tuple[starfish.ImageStack, starfish.IntensityTable]:\n",
    "    \"\"\"Process a single field of view of an experiment\n",
    "    \n",
    "    Parameters\n",
    "    ----------\n",
    "    experiment : starfish.Experiment\n",
    "        starfish experiment containing fields of view to analyze\n",
    "    fov_name : str\n",
    "        name of the field of view to process\n",
    "    n_processes : int\n",
    "    \n",
    "    Returns\n",
    "    -------\n",
    "    starfish.IntensityTable : \n",
    "        decoded IntensityTable containing spots matched to the genes they are hybridized against\n",
    "    \"\"\"\n",
    "    \n",
    "    print(\"Loading images...\")\n",
    "    primary_image = experiment[fov_name][FieldOfView.PRIMARY_IMAGES]\n",
    "    codebook = experiment.codebook\n",
    "    \n",
    "    print(\"Filtering images...\")\n",
    "    filter_kwargs = dict(\n",
    "        in_place=True,\n",
    "        verbose=True,\n",
    "        n_processes=n_processes\n",
    "    )\n",
    "    clip1.run(primary_image, **filter_kwargs)\n",
    "    bandpass.run(primary_image, **filter_kwargs)\n",
    "    glp.run(primary_image, **filter_kwargs)\n",
    "    clip2.run(primary_image, **filter_kwargs)\n",
    "    \n",
    "    print(\"Calling spots...\")\n",
    "    spot_attributes = tlmpf.run(primary_image)\n",
    "    \n",
    "    print(\"Decoding spots...\")\n",
    "    decoded = codebook.decode_per_round_max(spot_attributes)\n",
    "    decoded = decoded[decoded[\"total_intensity\"]>.025]\n",
    "    \n",
    "    return primary_image, decoded"
   ]
  },
  {
   "cell_type": "markdown",
   "metadata": {},
   "source": [
    "## Run the pipeline on a field of view"
   ]
  },
  {
   "cell_type": "code",
   "execution_count": 4,
   "metadata": {},
   "outputs": [
    {
     "name": "stderr",
     "output_type": "stream",
     "text": [
      "100%|██████████| 102/102 [00:05<00:00, 17.16it/s]\n",
      "102it [00:00, 707.53it/s]\n",
      "3it [00:00, 22.97it/s]\n",
      "3it [00:00, 23.53it/s]\n"
     ]
    }
   ],
   "source": [
    "experiment = starfish.data.allen_smFISH(use_test_data=True)\n",
    "\n",
    "image, intensities = allen_pipeline(experiment, fov_name='fov_001')"
   ]
  },
  {
   "cell_type": "markdown",
   "metadata": {},
   "source": [
    "## Display the results"
   ]
  },
  {
   "cell_type": "code",
   "execution_count": 5,
   "metadata": {},
   "outputs": [],
   "source": [
    "viewer = starfish.display.stack(image, intensities)"
   ]
  }
 ],
 "metadata": {
  "kernelspec": {
   "display_name": "starfish",
   "language": "python",
   "name": "starfish"
  },
  "language_info": {
   "codemirror_mode": {
    "name": "ipython",
    "version": 3
   },
   "file_extension": ".py",
   "mimetype": "text/x-python",
   "name": "python",
   "nbconvert_exporter": "python",
   "pygments_lexer": "ipython3",
   "version": "3.6.5"
  }
 },
 "nbformat": 4,
 "nbformat_minor": 2
}
