{
 "cells": [
  {
   "cell_type": "markdown",
   "metadata": {},
   "source": [
    "## Reproduce Published results with Starfish\n",
    "\n",
    "The MERFISH.zip file needed to run this notebook is downloadable [here](https://drive.google.com/open?id=1YQ3QcOBIoL6Yz3SStC0vigbVaH0C7DkW)\n",
    "\n",
    "This notebook walks through a workflow that reproduces a MERFISH result for one field of view using the starfish package. It assumes you have unzipped MERFISH.zip in the same directory. Thus, you should see: \n",
    "\n",
    "```\n",
    "MERFISH/\n",
    "Starfish MERFISH Pipeline - U2O2 Cell Culture - 1 FOV.ipynb\n",
    "```\n",
    "\n",
    "## Load tiff stack and visualize one field of view"
   ]
  },
  {
   "cell_type": "code",
   "execution_count": null,
   "metadata": {},
   "outputs": [],
   "source": [
    "import numpy as np\n",
    "import pandas as pd \n",
    "import matplotlib.pyplot as plt\n",
    "import os\n",
    "from showit import image, tile\n",
    "import time\n",
    "import pprint\n",
    "\n",
    "%matplotlib inline\n",
    "\n",
    "from starfish.io import Stack\n",
    "\n",
    "# load in current directory so we can also grab the benchmark results later\n",
    "s = Stack()\n",
    "s.read('MERFISH/fov_001/org.json')\n",
    "\n",
    "# data from one FOV correspond to 16 single plane images as shown here (see below for details)\n",
    "tile(s.squeeze());  "
   ]
  },
  {
   "cell_type": "markdown",
   "metadata": {},
   "source": [
    "## Show input file format that specifies how the tiff stack is organized\n",
    "\n",
    "The stack contains multiple images corresponding to the channel and hybridization round. MERFISH builds a 16 bit barcode from 8 hybridization rounds, each of which measures two channels that correspond to contiguous (but not necessarily consistently ordered) bits of the barcode. \n",
    "\n",
    "The MERFISH computational pipeline also constructs a scalar that corrects for intensity differences across each of the 16 images, e.g., one scale factor per bit position.\n",
    "\n",
    "The stacks in this example are pre-registered using fiduciary beads. "
   ]
  },
  {
   "cell_type": "code",
   "execution_count": null,
   "metadata": {},
   "outputs": [],
   "source": [
    "pp = pprint.PrettyPrinter(indent=2)\n",
    "pp.pprint(s.org)"
   ]
  },
  {
   "cell_type": "markdown",
   "metadata": {},
   "source": [
    "## Visualize codebook"
   ]
  },
  {
   "cell_type": "markdown",
   "metadata": {},
   "source": [
    "The MERFISH codebook maps each barcode to a gene (or blank) feature. The codes in the MERFISH codebook are constructed from a 4-hamming error correcting code with exactly 4 \"on\" bits per barcode"
   ]
  },
  {
   "cell_type": "code",
   "execution_count": null,
   "metadata": {},
   "outputs": [],
   "source": [
    "codebook = pd.read_csv('MERFISH/codebook.csv', dtype={'barcode': object})\n",
    "codebook.head(20)"
   ]
  },
  {
   "cell_type": "markdown",
   "metadata": {},
   "source": [
    "## Filter and scale raw data before decoding"
   ]
  },
  {
   "cell_type": "code",
   "execution_count": null,
   "metadata": {},
   "outputs": [],
   "source": [
    "from starfish.pipeline.filter.gaussian_high_pass import GaussianHighPass\n",
    "from starfish.pipeline.filter.gaussian_low_pass import GaussianLowPass\n",
    "from starfish.pipeline.filter.richardson_lucy_deconvolution import DeconvolvePSF\n",
    "from starfish.viz import tile_lims"
   ]
  },
  {
   "cell_type": "markdown",
   "metadata": {},
   "source": [
    "Begin filtering with a high pass filter to remove background signal."
   ]
  },
  {
   "cell_type": "code",
   "execution_count": null,
   "metadata": {},
   "outputs": [],
   "source": [
    "# bit_map_flag = True orders the list of single-plane images by bit\n",
    "# TODO ambrosejcarr: why is this important? This got dropped in the conversion to pipeline components\n",
    "ghp = GaussianHighPass(sigma=3)\n",
    "ghp.filter(s)"
   ]
  },
  {
   "cell_type": "markdown",
   "metadata": {},
   "source": [
    "The below algorithm deconvolves out the point spread function introduced by the microcope and is specifically designed for this use case. The number of iterations is an important parameter that needs careful optimization. "
   ]
  },
  {
   "cell_type": "code",
   "execution_count": null,
   "metadata": {},
   "outputs": [],
   "source": [
    "dpsf = DeconvolvePSF(num_iter=15, sigma=2)\n",
    "dpsf.filter(s)"
   ]
  },
  {
   "cell_type": "markdown",
   "metadata": {},
   "source": [
    "Recall that the image is pre-registered, as stated above. Despite this, individual RNA molecules may still not be perfectly aligned across hybridization rounds. This is crucial in order to read out a measure of the itended barcode (across hybridization rounds) in order to map it to the codebook. To solve for potential mis-alignment, the images can be blurred with a 1-pixel Gaussian kernel. The risk here is that this will obfuscate signals from nearby molecules. \n",
    "\n",
    "A local search in pixel space across hybridization rounds can also solve this. "
   ]
  },
  {
   "cell_type": "code",
   "execution_count": null,
   "metadata": {},
   "outputs": [],
   "source": [
    "glp = GaussianLowPass(sigma=1)\n",
    "glp.filter(s)"
   ]
  },
  {
   "cell_type": "markdown",
   "metadata": {},
   "source": [
    "Use MERFISH-calculated size factors to scale the channels across the hybridization rounds and visualize the resulting filtered and scaled images"
   ]
  },
  {
   "cell_type": "code",
   "execution_count": null,
   "metadata": {},
   "outputs": [],
   "source": [
    "stack_blurred = s.image.numpy_array\n",
    "sc = s.org['metadata']['scale']\n",
    "sc_df = pd.DataFrame([(int(k), v) for k,v in sc.items()], columns = ['bit', 'scale'])\n",
    "mp = pd.merge(s.squeeze_map, sc_df, on='bit', how='left')\n",
    "scale_dict = dict(zip(mp.ind.values, mp.scale.values))\n",
    "\n",
    "for k, v in scale_dict.items():\n",
    "    stack_blurred[k] = stack_blurred[k]/v\n",
    "    \n",
    "s.set_stack(s.un_squeeze(stack_blurred))"
   ]
  },
  {
   "cell_type": "code",
   "execution_count": null,
   "metadata": {},
   "outputs": [],
   "source": [
    "tile_lims(stack_blurred, 2, size=10);"
   ]
  },
  {
   "cell_type": "markdown",
   "metadata": {},
   "source": [
    "## Use spot-detector to create 'encoder' table  for standardized input  to decoder\n",
    "\n",
    "Each pipeline exposes a spot detector, and this spot detector translates the filtered image into an encoded table by detecting spots. The table contains the spot_id, the corresponding intensity (val) and the channel (ch), hybridization round (hyb), and bit position (bit) of each spot. \n",
    "\n",
    "The Encoder table is the hypothesized standardized file format for the output of a spot detector, and is the first format that is not an image stack. Below we show how this data representation looks for a single spot_id."
   ]
  },
  {
   "cell_type": "code",
   "execution_count": null,
   "metadata": {},
   "outputs": [],
   "source": [
    "from starfish.spots.pixel import PixelSpotDetector\n",
    "\n",
    "# create 'encoder table' standard (tidy) file format. each pixel is a 'spot'\n",
    "p = PixelSpotDetector(s)\n",
    "encoded = p.detect(bit_map_flag=True)\n",
    "ind = np.random.randint(low=0,high=2048*2048)\n",
    "encoded[encoded.spot_id==ind].head(16)"
   ]
  },
  {
   "cell_type": "markdown",
   "metadata": {},
   "source": [
    "## Decode\n",
    "\n",
    "Each assay type also exposes a decoder. A decoder translates each spot (spot_id) in the encoded table into a gene that matches a barcode in the codebook. The goal is to decode and output a quality score, per spot, that describes the confidence in the decoding. Recall that in the MERFISH pipeline, each 'spot' is actually a 16 dimensional vector, one per pixel in the image. From here on, we will refer to these as pixel vectors. Once these pixel vectors are decoded into gene values, contiguous pixels that are decoded to the same gene are labeled as 'spots' via a connected components labeler. We shall refer to the latter as spots.\n",
    "\n",
    "There are hard and soft decodings -- hard decoding is just looking for the max value in the code book. Soft decoding, by contrast, finds the closest code by distance in intensity. Because different assays each have their own intensities and error modes, we leave decoders as user-defined functions. \n",
    "\n",
    "For MERFISH, which uses soft decoding, there are several parameters which are important to determining the result of the decoding method: \n",
    "\n",
    "### Distance threshold\n",
    "In MERFISH, each pixel vector is a 16d vector that we want to map onto a barcode via minimum euclidean distance. Each barcode in the codebook, and each pixel vector is first mapped to the unit sphere by L2 normalization. As such, the maximum distance between a pixel vector and the nearest single-bit error barcode is 0.5176. As such, the decoder only accepts pixel vectors that are below this distance for assignment to a codeword in the codebook. \n",
    "\n",
    "### Magnitude threshold\n",
    "This is a signal floor for decoding. Pixel vectors with an L2 norm below this floor are not considered for decoding. \n",
    "\n",
    "### Area threshold\n",
    "Contiguous pixels that decode to the same gene are called as spots via connected components labeling. The minimum area of these spots are set by this parameter. The intuition is that pixel vectors, that pass the distance and magnitude thresholds, shold probably not be trusted as genes as the mRNA transcript would be too small for them to be real. This parameter can be set based on microscope resolution and signal amplification strategy.\n",
    "\n",
    "### Crop size \n",
    "The crop size crops the image by a number of pixels large enough to eliminate parts of the image that suffer from boundary effects from both signal aquisition (e.g., FOV overlap) and image processing. Here this value is 40.\n",
    "\n",
    "Given these three thresholds, for each pixel vector, the decoder picks the closest code (minimum distance) that satisfies each of the above thresholds, where the distance is calculated between the code and a normalized intensity vector and throws away subsequent spots that are too small."
   ]
  },
  {
   "cell_type": "code",
   "execution_count": null,
   "metadata": {},
   "outputs": [],
   "source": [
    "from starfish.decoders.merfish import MerfishDecoder\n",
    "\n",
    "decoder = MerfishDecoder(codebook)\n",
    "\n",
    "decoded = decoder._decode(encoded,\n",
    "                    img_size=(2048, 2048),\n",
    "                    distance_threshold=0.5176,\n",
    "                    magnitude_threshold=1,\n",
    "                    area_threshold=2,\n",
    "                    crop_size=40\n",
    "                   )\n",
    "\n",
    "res = decoded.result  # this should be consistent across assays; \n",
    "# this one doesn't have a quality, but it should eventually converge to a shared type\n",
    "res.head()"
   ]
  },
  {
   "cell_type": "markdown",
   "metadata": {},
   "source": [
    "In the above method, the private method of the decoder is used, which exposes additional metadata about the spots. "
   ]
  },
  {
   "cell_type": "code",
   "execution_count": null,
   "metadata": {},
   "outputs": [],
   "source": [
    "print('Additional metadata:')\n",
    "[f for f in dir(decoded) if not f.startswith('_')]"
   ]
  },
  {
   "cell_type": "markdown",
   "metadata": {},
   "source": [
    "Spot attributes are stored as skimage RegionProperties attributes"
   ]
  },
  {
   "cell_type": "code",
   "execution_count": null,
   "metadata": {},
   "outputs": [],
   "source": [
    "decoded.spot_props[:3]"
   ]
  },
  {
   "cell_type": "markdown",
   "metadata": {},
   "source": [
    "## Compare to results from paper \n",
    "\n",
    "The below plot aggregates gene copy number across single cells in the field of view and compares the results to the published intensities in the MERFISH paper. \n",
    "\n",
    "To make this match perfectly, run deconvolution 15 times instead of 14. As presented below, STARFISH displays a lower detection rate.  "
   ]
  },
  {
   "cell_type": "code",
   "execution_count": null,
   "metadata": {},
   "outputs": [],
   "source": [
    "import seaborn as sns\n",
    "sns.set_context('talk')\n",
    "sns.set_style('ticks')\n",
    "\n",
    "bench = pd.read_csv(os.path.join('MERFISH', 'benchmark_results.csv'), dtype = {'barcode':object})\n",
    "x_cnts = res.groupby('gene').count()['area']\n",
    "y_cnts = bench.groupby('gene').count()['area']\n",
    "tmp = pd.concat([x_cnts, y_cnts], axis=1, join='inner').values\n",
    "r = np.corrcoef(tmp[:,1], tmp[:,0])[0,1]\n",
    "\n",
    "x = np.linspace(50, 2000)\n",
    "plt.scatter(tmp[:,1],tmp[:,0], 50,zorder=2)\n",
    "plt.plot(x,x,'-k',zorder=1)\n",
    "\n",
    "plt.xlabel('Gene copy number Benchmark')\n",
    "plt.ylabel('Gene copy number Starfish')\n",
    "plt.xscale('log')\n",
    "plt.yscale('log')\n",
    "plt.title('r = {}'.format(r))\n",
    "\n",
    "sns.despine(offset=2)"
   ]
  },
  {
   "cell_type": "markdown",
   "metadata": {},
   "source": [
    "## Visualize results\n",
    "\n",
    "This image applies a pseudo-color to each gene channel to visualize the position and size of all called spots in a subset of the test image"
   ]
  },
  {
   "cell_type": "code",
   "execution_count": null,
   "metadata": {},
   "outputs": [],
   "source": [
    "props = decoded.spot_props\n",
    "area_lookup = lambda x: 0 if x == 0 else props[x-1].area\n",
    "vfunc = np.vectorize(area_lookup)\n",
    "mask = vfunc(decoded.label_img)\n",
    "image((decoded.decoded_img*(mask > 2))[200:500,200:500], cmap = 'nipy_spectral', size=10)"
   ]
  }
 ],
 "metadata": {
  "hide_input": false,
  "kernelspec": {
   "display_name": "Python 3",
   "language": "python",
   "name": "python3"
  },
  "language_info": {
   "codemirror_mode": {
    "name": "ipython",
    "version": 3
   },
   "file_extension": ".py",
   "mimetype": "text/x-python",
   "name": "python",
   "nbconvert_exporter": "python",
   "pygments_lexer": "ipython3",
   "version": "3.6.5"
  },
  "toc": {
   "nav_menu": {},
   "number_sections": true,
   "sideBar": true,
   "skip_h1_title": false,
   "toc_cell": false,
   "toc_position": {},
   "toc_section_display": "block",
   "toc_window_display": false
  }
 },
 "nbformat": 4,
 "nbformat_minor": 2
}