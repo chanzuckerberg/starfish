{
 "cells": [
  {
   "cell_type": "markdown",
   "metadata": {},
   "source": [
    "# Starfish BaristaSeq Processing Example"
   ]
  },
  {
   "cell_type": "code",
   "execution_count": null,
   "metadata": {},
   "outputs": [],
   "source": [
    "%gui qt\n",
    "\n",
    "import os\n",
    "from copy import deepcopy\n",
    "from itertools import product\n",
    "\n",
    "import numpy as np\n",
    "import pandas as pd\n",
    "import skimage.filters\n",
    "import skimage.morphology\n",
    "from skimage.transform import SimilarityTransform, warp\n",
    "from tqdm import tqdm\n",
    "\n",
    "import starfish\n",
    "import starfish.data\n",
    "from starfish.spots import SpotFinder\n",
    "from starfish.types import Axes"
   ]
  },
  {
   "cell_type": "markdown",
   "metadata": {},
   "source": [
    "BaristaSeq is an assay that sequences padlock-probe initiated rolling circle amplified spots using a one-hot codebook. The publication for this assay can be found [here](https://www.ncbi.nlm.nih.gov/pubmed/29190363).\n",
    "\n",
    "here we select data for a single field of view. "
   ]
  },
  {
   "cell_type": "code",
   "execution_count": null,
   "metadata": {},
   "outputs": [],
   "source": [
    "experiment_json = \"https://d2nhj9g34unfro.cloudfront.net/browse/formatted/20190319/baristaseq/experiment.json\"\n",
    "exp = starfish.Experiment.from_json(experiment_json)\n",
    "\n",
    "nissl = exp['fov_000'].get_image('dots')\n",
    "img = exp['fov_000'].get_image('primary')"
   ]
  },
  {
   "cell_type": "markdown",
   "metadata": {},
   "source": [
    "The first step in BaristaSeq is to do some rough registration. For this data, the rough registration has been done for us by the authors, so it is omitted from this notebook."
   ]
  },
  {
   "cell_type": "markdown",
   "metadata": {},
   "source": [
    "## Project into 2D\n",
    "\n",
    "First, project the z-plane to do analysis of BaristaSeq in 2-d. "
   ]
  },
  {
   "cell_type": "code",
   "execution_count": null,
   "metadata": {},
   "outputs": [],
   "source": [
    "z_projected_image = img.max_proj(Axes.ZPLANE)\n",
    "z_projected_nissl = nissl.max_proj(Axes.ZPLANE)"
   ]
  },
  {
   "cell_type": "markdown",
   "metadata": {},
   "source": [
    "## Correct Channel Misalignment\n",
    "\n",
    "There is a slight miss-alignment of the C channel in the microscope used to process the data. This has been corrected for this data, but here is how it could be transformed using python code for future datasets."
   ]
  },
  {
   "cell_type": "code",
   "execution_count": null,
   "metadata": {},
   "outputs": [],
   "source": [
    "# from skimage.feature import register_translation\n",
    "# from skimage.transform import warp\n",
    "# from skimage.transform import SimilarityTransform\n",
    "# from functools import partial\n",
    "\n",
    "# # Define the translation\n",
    "# transform = SimilarityTransform(translation=(1.9, -0.4))\n",
    "\n",
    "# # C is channel 0\n",
    "# channels = (0,)\n",
    "\n",
    "# # The channel should be transformed in all rounds\n",
    "# rounds = np.arange(img.num_rounds)\n",
    "\n",
    "# # apply the transformation in place\n",
    "# slice_indices = product(channels, rounds)\n",
    "# for ch, round_, in slice_indices:\n",
    "#     selector = {Axes.ROUND: round_, Axes.CH: ch, Axes.ZPLANE: 0}\n",
    "#     tile = z_projected_image.get_slice(selector)[0]\n",
    "#     transformed = warp(tile, transform)\n",
    "#     z_projected_image.set_slice(\n",
    "#         selector=selector,\n",
    "#         data=transformed.astype(np.float32),\n",
    "#     )"
   ]
  },
  {
   "cell_type": "markdown",
   "metadata": {},
   "source": [
    "## Remove Registration Artefacts\n",
    "\n",
    "There are some minor registration errors along the pixels for which y < 100 and x < 50. Those pixels are dropped from this analysis"
   ]
  },
  {
   "cell_type": "code",
   "execution_count": null,
   "metadata": {},
   "outputs": [],
   "source": [
    "registration_corrected = z_projected_image.sel({Axes.Y: (100, -1), Axes.X: (50, -1)})"
   ]
  },
  {
   "cell_type": "markdown",
   "metadata": {},
   "source": [
    "## Correct for bleed-through from Illumina SBS reagents\n",
    "\n",
    "The following matrix contains bleed correction factors for Illumina sequencing-by-synthesis reagents. Starfish provides a LinearUnmixing method that will unmix the fluorescence intensities"
   ]
  },
  {
   "cell_type": "code",
   "execution_count": null,
   "metadata": {},
   "outputs": [],
   "source": [
    "data = np.array(\n",
    "    [[0.  , 0.05, 0.  , 0.  ],\n",
    "     [0.35, 0.  , 0.  , 0.  ],\n",
    "     [0.  , 0.02, 0.  , 0.84],\n",
    "     [0.  , 0.  , 0.05, 0.  ]]\n",
    ")\n",
    "rows = pd.Index(np.arange(4), name='bleed_from')\n",
    "cols = pd.Index(np.arange(4), name='bleed_to')\n",
    "unmixing_coeff = pd.DataFrame(data, rows, cols)\n",
    "\n",
    "# show results\n",
    "unmixing_coeff"
   ]
  },
  {
   "cell_type": "code",
   "execution_count": null,
   "metadata": {},
   "outputs": [],
   "source": [
    "lum = starfish.image._filter.linear_unmixing.LinearUnmixing(unmixing_coeff)\n",
    "bleed_corrected = lum.run(registration_corrected)"
   ]
  },
  {
   "cell_type": "markdown",
   "metadata": {},
   "source": [
    "## Remove image background"
   ]
  },
  {
   "cell_type": "markdown",
   "metadata": {},
   "source": [
    "To remove image background, BaristaSeq uses a White Tophat filter, which measures the background with a rolling disk morphological element and subtracts it from the image. "
   ]
  },
  {
   "cell_type": "code",
   "execution_count": null,
   "metadata": {},
   "outputs": [],
   "source": [
    "from skimage.morphology import opening, dilation, disk\n",
    "from functools import partial"
   ]
  },
  {
   "cell_type": "markdown",
   "metadata": {},
   "source": [
    "If desired, the background that is being subtracted can be visualized"
   ]
  },
  {
   "cell_type": "code",
   "execution_count": null,
   "metadata": {},
   "outputs": [],
   "source": [
    "# opening = partial(opening, selem=disk(5))\n",
    "\n",
    "# background = bleed_corrected.apply(\n",
    "#     opening,\n",
    "#     group_by={Axes.ROUND, Axes.CH, Axes.ZPLANE}, verbose=False, in_place=False\n",
    "# )\n",
    "\n",
    "# starfish.display(background)"
   ]
  },
  {
   "cell_type": "code",
   "execution_count": null,
   "metadata": {},
   "outputs": [],
   "source": [
    "wth = starfish.image.Filter.WhiteTophat(masking_radius=5)\n",
    "background_corrected = wth.run(bleed_corrected, in_place=False)"
   ]
  },
  {
   "cell_type": "markdown",
   "metadata": {},
   "source": [
    "## Scale images to equalize spot intensities across channels\n",
    "\n",
    "The number of peaks are not uniform across rounds and channels, which prevents histogram matching across channels. Instead, a percentile value is identified and set as the maximum across channels, and the dynamic range is extended to equalize the channel intensities"
   ]
  },
  {
   "cell_type": "code",
   "execution_count": null,
   "metadata": {},
   "outputs": [],
   "source": [
    "sbp = starfish.image.Filter.ScaleByPercentile(p=99.5)\n",
    "scaled = sbp.run(background_corrected, n_processes=1, in_place=False)"
   ]
  },
  {
   "cell_type": "code",
   "execution_count": null,
   "metadata": {},
   "outputs": [],
   "source": [
    "starfish.display(scaled)"
   ]
  },
  {
   "cell_type": "markdown",
   "metadata": {},
   "source": [
    "## Remove residual background\n",
    "\n",
    "The background is fairly uniformly present below intensity=0.5. However, starfish's clip method currently only supports percentiles. To solve this problem, the intensities can be directly edited in the underlying numpy array. "
   ]
  },
  {
   "cell_type": "code",
   "execution_count": null,
   "metadata": {},
   "outputs": [],
   "source": [
    "from copy import deepcopy\n",
    "clipped = deepcopy(scaled)\n",
    "clipped.xarray.values[clipped.xarray.values < 0.5] = 0"
   ]
  },
  {
   "cell_type": "code",
   "execution_count": null,
   "metadata": {},
   "outputs": [],
   "source": [
    "starfish.display(clipped)"
   ]
  },
  {
   "cell_type": "markdown",
   "metadata": {},
   "source": [
    "## Detect Spots\n",
    "\n",
    "Detect spots with a local search blob detector that identifies spots in all rounds and channels and matches them using a local search method. The local search starts in an anchor channel (default ch=1) and identifies the nearest spot in all subsequent imaging rounds. "
   ]
  },
  {
   "cell_type": "code",
   "execution_count": null,
   "metadata": {},
   "outputs": [],
   "source": [
    "threshold = 0.5\n",
    "\n",
    "lsbd = starfish.spots._detector.local_search_blob_detector.LocalSearchBlobDetector(\n",
    "    min_sigma=(0.5, 0.5, 0.5),\n",
    "    max_sigma=(8, 8, 8),\n",
    "    num_sigma=10,\n",
    "    threshold=threshold,\n",
    "    search_radius=7\n",
    ")\n",
    "intensities = lsbd.run(clipped)\n",
    "decoded = exp.codebook.decode_per_round_max(intensities.fillna(0))"
   ]
  },
  {
   "cell_type": "code",
   "execution_count": null,
   "metadata": {},
   "outputs": [],
   "source": [
    "starfish.display(clipped, intensities)"
   ]
  },
  {
   "cell_type": "markdown",
   "metadata": {},
   "source": [
    "Based on visual inspection, it looks like the spot correspondence across rounds isn't being detected well. Try the PixelSpotDecoder."
   ]
  },
  {
   "cell_type": "code",
   "execution_count": null,
   "metadata": {},
   "outputs": [],
   "source": [
    "psd = starfish.spots.PixelSpotDecoder.PixelSpotDecoder(\n",
    "    codebook=exp.codebook, metric='euclidean', distance_threshold=0.5, \n",
    "    magnitude_threshold=0.1, min_area=7, max_area=50\n",
    ")\n",
    "pixel_decoded, ccdr = psd.run(clipped)"
   ]
  },
  {
   "cell_type": "code",
   "execution_count": null,
   "metadata": {},
   "outputs": [],
   "source": [
    "label_image = starfish.ImageStack.from_numpy_array(np.reshape(ccdr.label_image, (1, 1, 1, 1092, 862)))\n",
    "starfish.display(label_image)"
   ]
  },
  {
   "cell_type": "markdown",
   "metadata": {},
   "source": [
    "Compare the number of spots being detected by the two spot finders"
   ]
  },
  {
   "cell_type": "code",
   "execution_count": null,
   "metadata": {},
   "outputs": [],
   "source": [
    "print(\"pixel_decoder spots detected\", int(np.sum(pixel_decoded['target'] != 'nan')))\n",
    "print(\"local search spot detector spots detected\", int(np.sum(decoded['target'] != 'nan')))"
   ]
  },
  {
   "cell_type": "markdown",
   "metadata": {},
   "source": [
    "Report the correlation between the two methods"
   ]
  },
  {
   "cell_type": "code",
   "execution_count": null,
   "metadata": {},
   "outputs": [],
   "source": [
    "from scipy.stats import pearsonr\n",
    "\n",
    "# get the total counts for each gene from each spot detector\n",
    "pixel_decoded_gene_counts = pd.Series(*np.unique(pixel_decoded['target'], return_counts=True)[::-1])\n",
    "decoded_gene_counts = pd.Series(*np.unique(decoded['target'], return_counts=True)[::-1])\n",
    "\n",
    "# get the genes that are detected by both spot finders\n",
    "codetected = pixel_decoded_gene_counts.index.intersection(decoded_gene_counts.index)\n",
    "\n",
    "# report the correlation\n",
    "pearsonr(pixel_decoded_gene_counts[codetected], decoded_gene_counts[codetected])"
   ]
  },
  {
   "cell_type": "markdown",
   "metadata": {},
   "source": [
    "The pixel based spot detector looks better upon visual inspection. Do the below values make sense for this tissue and this probeset?? "
   ]
  },
  {
   "cell_type": "code",
   "execution_count": null,
   "metadata": {},
   "outputs": [],
   "source": [
    "pixel_decoded_gene_counts.sort_values()"
   ]
  },
  {
   "cell_type": "code",
   "execution_count": null,
   "metadata": {},
   "outputs": [],
   "source": [
    "exp.codebook[np.where(exp.codebook[\"target\"] == \"Ctxn1\")]"
   ]
  },
  {
   "cell_type": "code",
   "execution_count": null,
   "metadata": {},
   "outputs": [],
   "source": [
    "exp.codebook[np.where(exp.codebook[\"target\"] == \"Ptn\")]"
   ]
  },
  {
   "cell_type": "code",
   "execution_count": null,
   "metadata": {},
   "outputs": [],
   "source": [
    "exp.codebook[np.where(exp.codebook[\"target\"] == \"Brinp3\")]"
   ]
  },
  {
   "cell_type": "markdown",
   "metadata": {},
   "source": [
    "Looks like the codebook targets from PixelSpotDecoding don't share much in the way of channel biases across rounds or across codes, which makes me reasonably confident in the decoding result. "
   ]
  }
 ],
 "metadata": {
  "kernelspec": {
   "display_name": "starfish",
   "language": "python",
   "name": "starfish"
  },
  "language_info": {
   "codemirror_mode": {
    "name": "ipython",
    "version": 3
   },
   "file_extension": ".py",
   "mimetype": "text/x-python",
   "name": "python",
   "nbconvert_exporter": "python",
   "pygments_lexer": "ipython3",
   "version": "3.6.5"
  }
 },
 "nbformat": 4,
 "nbformat_minor": 2
}