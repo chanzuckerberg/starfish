{
 "cells": [
  {
   "cell_type": "markdown",
   "metadata": {},
   "source": [
    "## Reproduce DARTFISH results with Pixel Decoder"
   ]
  },
  {
   "cell_type": "code",
   "execution_count": 1,
   "metadata": {},
   "outputs": [],
   "source": [
    "%load_ext autoreload\n",
    "%autoreload 2\n",
    "%matplotlib inline\n",
    "\n",
    "import pandas as pd\n",
    "import numpy as np\n",
    "import matplotlib.pyplot as plt\n",
    "import seaborn as sns\n",
    "\n",
    "from functools import partial\n",
    "\n",
    "from starfish.experiment import Experiment\n",
    "from starfish.codebook import Codebook\n",
    "from starfish.constants import Indices\n",
    "from starfish.stack import ImageStack\n",
    "from starfish.image import Filter\n",
    "\n",
    "from starfish.spots import SpotFinder"
   ]
  },
  {
   "cell_type": "markdown",
   "metadata": {},
   "source": [
    "### Load image stack"
   ]
  },
  {
   "cell_type": "code",
   "execution_count": 2,
   "metadata": {},
   "outputs": [],
   "source": [
    "exp = Experiment.from_json('https://dmf0bdeheu4zf.cloudfront.net/20180813/DARTFISH/fov_001/experiment.json')\n",
    "stack = exp.image\n",
    "# TODO the latter will be fixed by https://github.com/spacetx/starfish/issues/316\n",
    "stack._data = stack._data.astype(float)"
   ]
  },
  {
   "cell_type": "code",
   "execution_count": 3,
   "metadata": {},
   "outputs": [
    {
     "name": "stdout",
     "output_type": "stream",
     "text": [
      "(6, 3, 1, 988, 988)\n"
     ]
    }
   ],
   "source": [
    "print(stack.numpy_array.shape)"
   ]
  },
  {
   "cell_type": "code",
   "execution_count": 4,
   "metadata": {},
   "outputs": [
    {
     "name": "stdout",
     "output_type": "stream",
     "text": [
      "Rescaling ...\n"
     ]
    },
    {
     "data": {
      "application/vnd.jupyter.widget-view+json": {
       "model_id": "f9b4df164ead40b8ac0fdf48ce2c7f33",
       "version_major": 2,
       "version_minor": 0
      },
      "text/plain": [
       "interactive(children=(IntSlider(value=0, description='plane_index', max=5), Output()), _dom_classes=('widget-i…"
      ]
     },
     "metadata": {},
     "output_type": "display_data"
    },
    {
     "data": {
      "text/plain": [
       "<function starfish.stack.ImageStack._show_matplotlib_inline.<locals>.display_slice>"
      ]
     },
     "execution_count": 4,
     "metadata": {},
     "output_type": "execute_result"
    }
   ],
   "source": [
    "stack.show_stack({Indices.CH:0}, rescale=True)"
   ]
  },
  {
   "cell_type": "markdown",
   "metadata": {},
   "source": [
    "### Load codebook"
   ]
  },
  {
   "cell_type": "code",
   "execution_count": 5,
   "metadata": {},
   "outputs": [
    {
     "data": {
      "text/plain": [
       "<xarray.Codebook (target: 96, c: 3, r: 6)>\n",
       "array([[[0, 1, ..., 0, 0],\n",
       "        [0, 0, ..., 1, 0],\n",
       "        [1, 0, ..., 0, 0]],\n",
       "\n",
       "       [[0, 1, ..., 1, 0],\n",
       "        [1, 0, ..., 0, 0],\n",
       "        [0, 0, ..., 0, 0]],\n",
       "\n",
       "       ...,\n",
       "\n",
       "       [[0, 0, ..., 0, 0],\n",
       "        [0, 1, ..., 1, 0],\n",
       "        [1, 0, ..., 0, 0]],\n",
       "\n",
       "       [[0, 0, ..., 0, 0],\n",
       "        [0, 0, ..., 0, 1],\n",
       "        [1, 1, ..., 0, 0]]], dtype=uint8)\n",
       "Coordinates:\n",
       "  * target   (target) object 'MYH11' 'RELN' 'NR4A2' 'COL20A1' 'IGFBP5' ...\n",
       "  * c        (c) int64 0 1 2\n",
       "  * r        (r) int64 0 1 2 3 4 5"
      ]
     },
     "execution_count": 5,
     "metadata": {},
     "output_type": "execute_result"
    }
   ],
   "source": [
    "cb = Codebook.from_json('https://dmf0bdeheu4zf.cloudfront.net/20180813/DARTFISH/fov_001/codebook.json')\n",
    "cb"
   ]
  },
  {
   "cell_type": "markdown",
   "metadata": {},
   "source": [
    "### Load copy number benchmark results"
   ]
  },
  {
   "cell_type": "code",
   "execution_count": 6,
   "metadata": {},
   "outputs": [
    {
     "data": {
      "text/html": [
       "<div>\n",
       "<style scoped>\n",
       "    .dataframe tbody tr th:only-of-type {\n",
       "        vertical-align: middle;\n",
       "    }\n",
       "\n",
       "    .dataframe tbody tr th {\n",
       "        vertical-align: top;\n",
       "    }\n",
       "\n",
       "    .dataframe thead th {\n",
       "        text-align: right;\n",
       "    }\n",
       "</style>\n",
       "<table border=\"1\" class=\"dataframe\">\n",
       "  <thead>\n",
       "    <tr style=\"text-align: right;\">\n",
       "      <th></th>\n",
       "      <th>gene</th>\n",
       "      <th>cnt</th>\n",
       "    </tr>\n",
       "  </thead>\n",
       "  <tbody>\n",
       "    <tr>\n",
       "      <th>0</th>\n",
       "      <td>MYH11</td>\n",
       "      <td>29</td>\n",
       "    </tr>\n",
       "    <tr>\n",
       "      <th>1</th>\n",
       "      <td>RELN</td>\n",
       "      <td>22</td>\n",
       "    </tr>\n",
       "    <tr>\n",
       "      <th>2</th>\n",
       "      <td>NR4A2</td>\n",
       "      <td>20</td>\n",
       "    </tr>\n",
       "    <tr>\n",
       "      <th>3</th>\n",
       "      <td>COL20A1</td>\n",
       "      <td>14</td>\n",
       "    </tr>\n",
       "    <tr>\n",
       "      <th>4</th>\n",
       "      <td>IGFBP5</td>\n",
       "      <td>13</td>\n",
       "    </tr>\n",
       "  </tbody>\n",
       "</table>\n",
       "</div>"
      ],
      "text/plain": [
       "      gene  cnt\n",
       "0    MYH11   29\n",
       "1     RELN   22\n",
       "2    NR4A2   20\n",
       "3  COL20A1   14\n",
       "4   IGFBP5   13"
      ]
     },
     "execution_count": 6,
     "metadata": {},
     "output_type": "execute_result"
    }
   ],
   "source": [
    "bench = pd.read_csv('https://dmf0bdeheu4zf.cloudfront.net/20180813/DARTFISH/fov_001/counts.csv')\n",
    "bench.head()"
   ]
  },
  {
   "cell_type": "markdown",
   "metadata": {},
   "source": [
    "### Filter Image Stack"
   ]
  },
  {
   "cell_type": "code",
   "execution_count": 7,
   "metadata": {},
   "outputs": [
    {
     "name": "stdout",
     "output_type": "stream",
     "text": [
      "Rescaling ...\n"
     ]
    },
    {
     "data": {
      "application/vnd.jupyter.widget-view+json": {
       "model_id": "e6113ff2a0314844a9ab6f10c2b065bb",
       "version_major": 2,
       "version_minor": 0
      },
      "text/plain": [
       "interactive(children=(IntSlider(value=0, description='plane_index', max=2), Output()), _dom_classes=('widget-i…"
      ]
     },
     "metadata": {},
     "output_type": "display_data"
    },
    {
     "data": {
      "text/plain": [
       "<function starfish.stack.ImageStack._show_matplotlib_inline.<locals>.display_slice>"
      ]
     },
     "execution_count": 7,
     "metadata": {},
     "output_type": "execute_result"
    }
   ],
   "source": [
    "normalize_by_magnitude=False\n",
    "\n",
    "sc_filt = Filter.ScaleByPercentile(p=100)\n",
    "z_filt = Filter.ZeroByChannelMagnitude(thresh=.05)\n",
    "\n",
    "norm_stack = sc_filt.run(stack, in_place=False)\n",
    "zero_norm_stack = z_filt.run(norm_stack, in_place=False)\n",
    "\n",
    "zero_norm_stack.show_stack({Indices.ROUND:0}, rescale=True)"
   ]
  },
  {
   "cell_type": "markdown",
   "metadata": {},
   "source": [
    "### Decode"
   ]
  },
  {
   "cell_type": "code",
   "execution_count": 8,
   "metadata": {},
   "outputs": [
    {
     "data": {
      "text/html": [
       "<div>\n",
       "<style scoped>\n",
       "    .dataframe tbody tr th:only-of-type {\n",
       "        vertical-align: middle;\n",
       "    }\n",
       "\n",
       "    .dataframe tbody tr th {\n",
       "        vertical-align: top;\n",
       "    }\n",
       "\n",
       "    .dataframe thead th {\n",
       "        text-align: right;\n",
       "    }\n",
       "</style>\n",
       "<table border=\"1\" class=\"dataframe\">\n",
       "  <thead>\n",
       "    <tr style=\"text-align: right;\">\n",
       "      <th></th>\n",
       "      <th>radius</th>\n",
       "      <th>target</th>\n",
       "      <th>x</th>\n",
       "      <th>y</th>\n",
       "      <th>z</th>\n",
       "      <th>distance</th>\n",
       "      <th>area</th>\n",
       "    </tr>\n",
       "  </thead>\n",
       "  <tbody>\n",
       "    <tr>\n",
       "      <th>0</th>\n",
       "      <td>1.871205</td>\n",
       "      <td>EXPH5</td>\n",
       "      <td>955</td>\n",
       "      <td>0</td>\n",
       "      <td>0</td>\n",
       "      <td>0.648725</td>\n",
       "      <td>11.0</td>\n",
       "    </tr>\n",
       "    <tr>\n",
       "      <th>1</th>\n",
       "      <td>1.954410</td>\n",
       "      <td>RNF152</td>\n",
       "      <td>928</td>\n",
       "      <td>3</td>\n",
       "      <td>0</td>\n",
       "      <td>0.458121</td>\n",
       "      <td>12.0</td>\n",
       "    </tr>\n",
       "    <tr>\n",
       "      <th>2</th>\n",
       "      <td>1.954410</td>\n",
       "      <td>PLD4</td>\n",
       "      <td>295</td>\n",
       "      <td>5</td>\n",
       "      <td>0</td>\n",
       "      <td>0.540604</td>\n",
       "      <td>12.0</td>\n",
       "    </tr>\n",
       "    <tr>\n",
       "      <th>3</th>\n",
       "      <td>1.871205</td>\n",
       "      <td>CTSS</td>\n",
       "      <td>225</td>\n",
       "      <td>7</td>\n",
       "      <td>0</td>\n",
       "      <td>0.722373</td>\n",
       "      <td>11.0</td>\n",
       "    </tr>\n",
       "    <tr>\n",
       "      <th>4</th>\n",
       "      <td>2.185097</td>\n",
       "      <td>PCP4</td>\n",
       "      <td>383</td>\n",
       "      <td>7</td>\n",
       "      <td>0</td>\n",
       "      <td>0.523660</td>\n",
       "      <td>15.0</td>\n",
       "    </tr>\n",
       "  </tbody>\n",
       "</table>\n",
       "</div>"
      ],
      "text/plain": [
       "     radius  target    x  y  z  distance  area\n",
       "0  1.871205   EXPH5  955  0  0  0.648725  11.0\n",
       "1  1.954410  RNF152  928  3  0  0.458121  12.0\n",
       "2  1.954410    PLD4  295  5  0  0.540604  12.0\n",
       "3  1.871205    CTSS  225  7  0  0.722373  11.0\n",
       "4  2.185097    PCP4  383  7  0  0.523660  15.0"
      ]
     },
     "execution_count": 8,
     "metadata": {},
     "output_type": "execute_result"
    }
   ],
   "source": [
    "magnitude_threshold = .5\n",
    "area_threshold = (5, 30)\n",
    "distance_threshold = 3\n",
    "\n",
    "psd = SpotFinder.PixelSpotDetector(\n",
    "    codebook=cb,\n",
    "    metric='euclidean',\n",
    "    distance_threshold=distance_threshold,\n",
    "    magnitude_threshold=magnitude_threshold,\n",
    "    min_area=area_threshold[0],\n",
    "    max_area=area_threshold[1]\n",
    ")\n",
    "\n",
    "spot_intensities, results = psd.find(zero_norm_stack)\n",
    "spots_df = spot_intensities.to_dataframe()\n",
    "spots_df['area'] = np.pi*spots_df['radius']**2\n",
    "spots_df.head()\n"
   ]
  },
  {
   "cell_type": "markdown",
   "metadata": {},
   "source": [
    "### QC Plots"
   ]
  },
  {
   "cell_type": "markdown",
   "metadata": {},
   "source": [
    "#### parameter tuning plots"
   ]
  },
  {
   "cell_type": "code",
   "execution_count": 9,
   "metadata": {},
   "outputs": [
    {
     "data": {
      "image/png": "[encoded data removed]",
      "text/plain": [
       "<Figure size 720x216 with 3 Axes>"
      ]
     },
     "metadata": {},
     "output_type": "display_data"
    }
   ],
   "source": [
    "from starfish.intensity_table import IntensityTable\n",
    "\n",
    "min_thresh = 0.6\n",
    "\n",
    "def compute_magnitudes(stack, norm_order=2):\n",
    "    \n",
    "    pixel_intensities = IntensityTable.from_image_stack(zero_norm_stack)\n",
    "    feature_traces = pixel_intensities.stack(traces=(Indices.CH.value, Indices.ROUND.value))\n",
    "    norm = np.linalg.norm(feature_traces.values, ord=norm_order, axis=1)\n",
    "\n",
    "    return norm\n",
    "    \n",
    "norm = compute_magnitudes(zero_norm_stack)\n",
    "\n",
    "plt.figure(figsize=(10,3))\n",
    "\n",
    "plt.subplot(131)\n",
    "plt.hist(norm, bins=100);\n",
    "plt.yscale('log')\n",
    "plt.xlabel('barcode magnitude')\n",
    "plt.ylabel('number of pixels')\n",
    "sns.despine(offset=2)\n",
    "plt.vlines(magnitude_threshold, ymin=plt.gca().get_ylim()[0], ymax=plt.gca().get_ylim()[1])\n",
    "\n",
    "plt.subplot(132)\n",
    "spots_df['area'] = np.pi*spots_df.radius**2\n",
    "spots_df.area.hist(bins=30);\n",
    "plt.xlabel('area')\n",
    "plt.ylabel('number of spots')\n",
    "sns.despine(offset=2)\n",
    "\n",
    "plt.subplot(133)\n",
    "spots_df.distance.hist(bins=30)\n",
    "plt.xlabel('min distance to code');\n",
    "plt.vlines(min_thresh, ymin=plt.gca().get_ylim()[0], ymax=plt.gca().get_ylim()[1])\n",
    "sns.despine(offset=2)"
   ]
  },
  {
   "cell_type": "markdown",
   "metadata": {},
   "source": [
    "#### Copy number comparisons"
   ]
  },
  {
   "cell_type": "code",
   "execution_count": 10,
   "metadata": {},
   "outputs": [
    {
     "data": {
      "text/html": [
       "<div>\n",
       "<style scoped>\n",
       "    .dataframe tbody tr th:only-of-type {\n",
       "        vertical-align: middle;\n",
       "    }\n",
       "\n",
       "    .dataframe tbody tr th {\n",
       "        vertical-align: top;\n",
       "    }\n",
       "\n",
       "    .dataframe thead th {\n",
       "        text-align: right;\n",
       "    }\n",
       "</style>\n",
       "<table border=\"1\" class=\"dataframe\">\n",
       "  <thead>\n",
       "    <tr style=\"text-align: right;\">\n",
       "      <th></th>\n",
       "      <th>gene</th>\n",
       "      <th>cnt</th>\n",
       "      <th>cnt_starfish</th>\n",
       "    </tr>\n",
       "  </thead>\n",
       "  <tbody>\n",
       "    <tr>\n",
       "      <th>0</th>\n",
       "      <td>MYH11</td>\n",
       "      <td>29</td>\n",
       "      <td>32.0</td>\n",
       "    </tr>\n",
       "    <tr>\n",
       "      <th>1</th>\n",
       "      <td>RELN</td>\n",
       "      <td>22</td>\n",
       "      <td>12.0</td>\n",
       "    </tr>\n",
       "    <tr>\n",
       "      <th>2</th>\n",
       "      <td>NR4A2</td>\n",
       "      <td>20</td>\n",
       "      <td>34.0</td>\n",
       "    </tr>\n",
       "    <tr>\n",
       "      <th>3</th>\n",
       "      <td>COL20A1</td>\n",
       "      <td>14</td>\n",
       "      <td>15.0</td>\n",
       "    </tr>\n",
       "    <tr>\n",
       "      <th>4</th>\n",
       "      <td>IGFBP5</td>\n",
       "      <td>13</td>\n",
       "      <td>8.0</td>\n",
       "    </tr>\n",
       "    <tr>\n",
       "      <th>5</th>\n",
       "      <td>JAG1</td>\n",
       "      <td>12</td>\n",
       "      <td>27.0</td>\n",
       "    </tr>\n",
       "    <tr>\n",
       "      <th>6</th>\n",
       "      <td>ADCY8</td>\n",
       "      <td>12</td>\n",
       "      <td>11.0</td>\n",
       "    </tr>\n",
       "    <tr>\n",
       "      <th>7</th>\n",
       "      <td>ANKRD13A</td>\n",
       "      <td>10</td>\n",
       "      <td>22.0</td>\n",
       "    </tr>\n",
       "    <tr>\n",
       "      <th>8</th>\n",
       "      <td>INPP5D</td>\n",
       "      <td>9</td>\n",
       "      <td>6.0</td>\n",
       "    </tr>\n",
       "    <tr>\n",
       "      <th>9</th>\n",
       "      <td>MBP</td>\n",
       "      <td>8</td>\n",
       "      <td>20.0</td>\n",
       "    </tr>\n",
       "    <tr>\n",
       "      <th>10</th>\n",
       "      <td>CTSS</td>\n",
       "      <td>8</td>\n",
       "      <td>14.0</td>\n",
       "    </tr>\n",
       "    <tr>\n",
       "      <th>11</th>\n",
       "      <td>LRRC25</td>\n",
       "      <td>7</td>\n",
       "      <td>3.0</td>\n",
       "    </tr>\n",
       "    <tr>\n",
       "      <th>12</th>\n",
       "      <td>GSN</td>\n",
       "      <td>6</td>\n",
       "      <td>10.0</td>\n",
       "    </tr>\n",
       "    <tr>\n",
       "      <th>13</th>\n",
       "      <td>PDGFRA</td>\n",
       "      <td>6</td>\n",
       "      <td>6.0</td>\n",
       "    </tr>\n",
       "    <tr>\n",
       "      <th>14</th>\n",
       "      <td>MOBP</td>\n",
       "      <td>6</td>\n",
       "      <td>8.0</td>\n",
       "    </tr>\n",
       "    <tr>\n",
       "      <th>15</th>\n",
       "      <td>PECAM1</td>\n",
       "      <td>6</td>\n",
       "      <td>3.0</td>\n",
       "    </tr>\n",
       "    <tr>\n",
       "      <th>16</th>\n",
       "      <td>RASAL3</td>\n",
       "      <td>5</td>\n",
       "      <td>3.0</td>\n",
       "    </tr>\n",
       "    <tr>\n",
       "      <th>17</th>\n",
       "      <td>OLFML3</td>\n",
       "      <td>5</td>\n",
       "      <td>4.0</td>\n",
       "    </tr>\n",
       "    <tr>\n",
       "      <th>18</th>\n",
       "      <td>PRRX1</td>\n",
       "      <td>4</td>\n",
       "      <td>2.0</td>\n",
       "    </tr>\n",
       "    <tr>\n",
       "      <th>19</th>\n",
       "      <td>RNF152</td>\n",
       "      <td>4</td>\n",
       "      <td>3.0</td>\n",
       "    </tr>\n",
       "  </tbody>\n",
       "</table>\n",
       "</div>"
      ],
      "text/plain": [
       "        gene  cnt  cnt_starfish\n",
       "0      MYH11   29          32.0\n",
       "1       RELN   22          12.0\n",
       "2      NR4A2   20          34.0\n",
       "3    COL20A1   14          15.0\n",
       "4     IGFBP5   13           8.0\n",
       "5       JAG1   12          27.0\n",
       "6      ADCY8   12          11.0\n",
       "7   ANKRD13A   10          22.0\n",
       "8     INPP5D    9           6.0\n",
       "9        MBP    8          20.0\n",
       "10      CTSS    8          14.0\n",
       "11    LRRC25    7           3.0\n",
       "12       GSN    6          10.0\n",
       "13    PDGFRA    6           6.0\n",
       "14      MOBP    6           8.0\n",
       "15    PECAM1    6           3.0\n",
       "16    RASAL3    5           3.0\n",
       "17    OLFML3    5           4.0\n",
       "18     PRRX1    4           2.0\n",
       "19    RNF152    4           3.0"
      ]
     },
     "execution_count": 10,
     "metadata": {},
     "output_type": "execute_result"
    }
   ],
   "source": [
    "cnts_starfish = spots_df[spots_df.distance<=min_thresh].groupby('target').count()['area']\n",
    "cnts_starfish = cnts_starfish.reset_index(level=0)\n",
    "cnts_starfish.rename(columns = {'target':'gene', 'area':'cnt_starfish'}, inplace=True)\n",
    "\n",
    "mrg = pd.merge(bench, cnts_starfish, on='gene', how='left')\n",
    "mrg.head(20)"
   ]
  },
  {
   "cell_type": "code",
   "execution_count": 11,
   "metadata": {},
   "outputs": [
    {
     "data": {
      "image/png": "[encoded data removed]",
      "text/plain": [
       "<Figure size 432x288 with 1 Axes>"
      ]
     },
     "metadata": {},
     "output_type": "display_data"
    }
   ],
   "source": [
    "sns.set_context('talk')\n",
    "sns.set_style('ticks')\n",
    "\n",
    "x = mrg.dropna().cnt.values\n",
    "y = mrg.dropna().cnt_starfish.values\n",
    "r = np.corrcoef(x, y)\n",
    "r = r[0,1]\n",
    "\n",
    "plt.scatter(x, y, 50,zorder=2)\n",
    "\n",
    "plt.xlabel('Gene copy number Benchmark')\n",
    "plt.ylabel('Gene copy number Starfish')\n",
    "plt.title('r = {}'.format(r))\n",
    "\n",
    "sns.despine(offset=2)"
   ]
  },
  {
   "cell_type": "markdown",
   "metadata": {},
   "source": [
    "#### visualization of rolonies"
   ]
  },
  {
   "cell_type": "code",
   "execution_count": 12,
   "metadata": {},
   "outputs": [],
   "source": [
    "distance_threshold = min_thresh\n",
    "\n",
    "psd = SpotFinder.PixelSpotDetector(\n",
    "    codebook=cb,\n",
    "    metric='euclidean',\n",
    "    distance_threshold=distance_threshold,\n",
    "    magnitude_threshold=magnitude_threshold,\n",
    "    min_area=area_threshold[0],\n",
    "    max_area=area_threshold[1]\n",
    ")\n",
    "\n",
    "spot_intensities, results = psd.find(zero_norm_stack)"
   ]
  },
  {
   "cell_type": "code",
   "execution_count": 13,
   "metadata": {},
   "outputs": [
    {
     "data": {
      "image/png": "[encoded data removed]",
      "text/plain": [
       "<Figure size 720x720 with 1 Axes>"
      ]
     },
     "metadata": {},
     "output_type": "display_data"
    },
    {
     "data": {
      "image/png": "[encoded data removed]",
      "text/plain": [
       "<Figure size 720x720 with 1 Axes>"
      ]
     },
     "metadata": {},
     "output_type": "display_data"
    }
   ],
   "source": [
    "area_lookup = lambda x: 0 if x == 0 else results.region_properties[x - 1].area\n",
    "vfunc = np.vectorize(area_lookup)\n",
    "mask = np.squeeze(vfunc(results.label_image))\n",
    "new_image = np.squeeze(results.decoded_image)*(mask > area_threshold[0])*(mask < area_threshold[1])\n",
    "\n",
    "plt.figure(figsize=(10,10))\n",
    "plt.imshow(new_image, cmap = 'nipy_spectral');\n",
    "plt.axis('off');\n",
    "plt.title('Coded rolonies');\n",
    "\n",
    "plt.figure(figsize=(10,10))\n",
    "plt.imshow(new_image[600:800, 100:300], cmap = 'nipy_spectral');\n",
    "plt.axis('off');\n",
    "plt.title('Coded rolonies, zoomed in');"
   ]
  },
  {
   "cell_type": "markdown",
   "metadata": {},
   "source": [
    "### visualization of matched barcodes"
   ]
  },
  {
   "cell_type": "code",
   "execution_count": 14,
   "metadata": {},
   "outputs": [
    {
     "data": {
      "image/png": "[encoded data removed]",
      "text/plain": [
       "<Figure size 432x288 with 1 Axes>"
      ]
     },
     "metadata": {},
     "output_type": "display_data"
    }
   ],
   "source": [
    "pbcs = spot_intensities\n",
    "pbcs = pbcs.stack(traces=(Indices.ROUND.value, Indices.CH.value))\n",
    "pbcs_df = pbcs.features.to_index().to_frame(index=False)\n",
    "pbcs_df['area'] = np.pi*pbcs_df.radius**2\n",
    "\n",
    "n = int(np.ceil(np.random.rand()*len(pbcs_df)))-1\n",
    "gn = pbcs_df.loc[n].target\n",
    "thi_bc = cb[cb.target==gn].stack(traces=(Indices.ROUND.value, Indices.CH.value)).values[0]\n",
    "plt.plot(thi_bc, 'ok')\n",
    "plt.stem(pbcs[n,:])\n",
    "plt.title(gn);"
   ]
  },
  {
   "cell_type": "markdown",
   "metadata": {},
   "source": [
    "## old stuff"
   ]
  },
  {
   "cell_type": "code",
   "execution_count": 15,
   "metadata": {},
   "outputs": [],
   "source": [
    "# TODO discuss with ambrose potential idiomatic starfish implementation\n",
    "def zero_channels_old(stack, magnitude_thresh, normalize_by_magnitude=False):\n",
    "    \"\"\"\n",
    "    Sets all values in a round to zero if the magnitude across color channel is below a \n",
    "    specified threshold\n",
    "    \"\"\"\n",
    "    # r, z, y, x\n",
    "    ch_magnitudes = np.linalg.norm(stack.numpy_array, ord=2, axis=1)\n",
    "    magnitude_mask = ch_magnitudes >= magnitude_thresh\n",
    "\n",
    "    magnitude_mask_repeat = np.expand_dims(magnitude_mask, axis=1)\n",
    "    magnitude_mask_repeat = magnitude_mask_repeat.repeat(stack.num_chs, axis=1)\n",
    "    \n",
    "    ch_magnitudes_repeat = np.expand_dims(ch_magnitudes, axis=1)\n",
    "    ch_magnitudes_repeat = ch_magnitudes_repeat.repeat(stack.num_chs, axis=1)\n",
    "    \n",
    "    res = stack.numpy_array * magnitude_mask_repeat\n",
    "    \n",
    "    if normalize_by_magnitude:\n",
    "        res = np.divide(stack.numpy_array, ch_magnitudes_repeat, where=magnitude_mask_repeat)\n",
    "    \n",
    "    return ImageStack.from_numpy_array(res), ch_magnitudes"
   ]
  }
 ],
 "metadata": {
  "kernelspec": {
   "display_name": "Python 3",
   "language": "python",
   "name": "python3"
  },
  "language_info": {
   "codemirror_mode": {
    "name": "ipython",
    "version": 3
   },
   "file_extension": ".py",
   "mimetype": "text/x-python",
   "name": "python",
   "nbconvert_exporter": "python",
   "pygments_lexer": "ipython3",
   "version": "3.6.5"
  }
 },
 "nbformat": 4,
 "nbformat_minor": 2
}
