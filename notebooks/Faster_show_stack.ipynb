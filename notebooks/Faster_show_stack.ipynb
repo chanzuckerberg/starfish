{
 "cells": [
  {
   "cell_type": "markdown",
   "metadata": {},
   "source": [
    "# Objective\n",
    "This notebook demonstrates the more responsive implementation of show_stack()\n",
    "\n",
    "# Approach\n",
    "The current version in master creates a new imshow() plot each time the slider is adjusted. Recreating the entire plot is very slow, so instead we use the imshow().set_data() to update just the image data. We should be able to make show_stack(). If we need to go faster, we may need to look into a different plotting library (e.g., pyqtgraph).\n",
    "\n",
    "Additionally, note that I use the 'notebook' (as opposed to 'inline'), which both allows the draw to work and gives an image tooltip. The tooltip is super userful because it reads out the coordinates and intensity of the pixel under the cursor!\n",
    "\n",
    "\n",
    "# Questions\n",
    "* Will the same approach work for the cluster points?\n",
    "* Does it matter what backend (e.g., QtAgg or TkAgg) the user has?\n",
    "* Is the figure size too big? "
   ]
  },
  {
   "cell_type": "code",
   "execution_count": null,
   "metadata": {},
   "outputs": [],
   "source": [
    "%matplotlib notebook\n",
    "\n",
    "from starfish.io import Stack\n",
    "from starfish.constants import Indices"
   ]
  },
  {
   "cell_type": "code",
   "execution_count": null,
   "metadata": {},
   "outputs": [],
   "source": [
    "# Load the image. This is the same data set from the allen_smFISH notebook and will likely take a while to load...\n",
    "experiment_json = 'https://dmf0bdeheu4zf.cloudfront.net/20180606/allen_smFISH/fov_001/experiment.json'\n",
    "\n",
    "s = Stack()\n",
    "s.read(experiment_json)"
   ]
  },
  {
   "cell_type": "code",
   "execution_count": null,
   "metadata": {},
   "outputs": [],
   "source": [
    "# Show the stack\n",
    "s.image.show_stack({Indices.CH: 0});"
   ]
  }
 ],
 "metadata": {
  "kernelspec": {
   "display_name": "Python 3",
   "language": "python",
   "name": "python3"
  },
  "language_info": {
   "codemirror_mode": {
    "name": "ipython",
    "version": 3
   },
   "file_extension": ".py",
   "mimetype": "text/x-python",
   "name": "python",
   "nbconvert_exporter": "python",
   "pygments_lexer": "ipython3",
   "version": "3.6.4"
  }
 },
 "nbformat": 4,
 "nbformat_minor": 2
}
