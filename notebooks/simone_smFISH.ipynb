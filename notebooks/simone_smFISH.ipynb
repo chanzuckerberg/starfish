{
 "cells": [
  {
   "cell_type": "markdown",
   "metadata": {},
   "source": [
    "# Create an org.json, convert that to the new json"
   ]
  },
  {
   "cell_type": "code",
   "execution_count": 19,
   "metadata": {},
   "outputs": [],
   "source": [
    "import os\n",
    "import json\n",
    "import numpy as np\n",
    "import glob\n",
    "from skimage.io import imread, imsave\n",
    "from collections import Counter"
   ]
  },
  {
   "cell_type": "code",
   "execution_count": 21,
   "metadata": {},
   "outputs": [],
   "source": [
    "data_dir = os.path.expanduser('~/google_drive/scratch/starfish/linnarsson/TIFF/series_1/')"
   ]
  },
  {
   "cell_type": "code",
   "execution_count": 24,
   "metadata": {},
   "outputs": [],
   "source": [
    "metadata = {\n",
    "    \"num_hybs\": 1,\n",
    "    \"num_chs\": 2,\n",
    "    \"shape\": [2048, 2048],\n",
    "    \"is_volume\": True,\n",
    "    \"format\": \"TIFF\"\n",
    "}"
   ]
  },
  {
   "cell_type": "code",
   "execution_count": 25,
   "metadata": {},
   "outputs": [],
   "source": [
    "fluor_to_file_mapping = {\n",
    "    \"c001\": 0,\n",
    "    \"c002\": 1,\n",
    "}"
   ]
  },
  {
   "cell_type": "code",
   "execution_count": 29,
   "metadata": {},
   "outputs": [],
   "source": [
    "data = []\n",
    "for f in glob.glob(os.path.join(data_dir, '*.tif')):\n",
    "    if 'c003' in f: \n",
    "        continue  # DAPI\n",
    "    _, _, suffix = f.partition('100X_')\n",
    "    file_ = os.path.basename(f)\n",
    "    z, ch = suffix.strip('.tif').split('_')\n",
    "    data.append({\n",
    "        \"hyb\": 0,\n",
    "        \"ch\": fluor_to_file_mapping[ch],\n",
    "        \"file\": file_,\n",
    "        \"z\": int(z[1:]) - 1  # one based. I guess at some point I should just write a way to do this from the new spec. \n",
    "    })"
   ]
  },
  {
   "cell_type": "code",
   "execution_count": 30,
   "metadata": {},
   "outputs": [],
   "source": [
    "# grab the dapi images and max_project them, then define that result\n",
    "\n",
    "# get all z-images\n",
    "dapi_data = []\n",
    "for f in glob.glob(os.path.join(data_dir, '*.tif')):\n",
    "    if 'c003' in f: \n",
    "        dapi_data.append(f)  # DAPI\n",
    "    _, _, suffix = f.partition('100X_')\n",
    "    file_ = os.path.basename(f)\n",
    "    z, ch = suffix.strip('.tif').split('_')\n",
    "\n",
    "# concatenate them over z\n",
    "np_data = [imread(f) for f in dapi_data]\n",
    "x, y = np_data[0].shape\n",
    "z = len(np_data)\n",
    "volume = np.zeros((x, y, z), dtype=np_data[0].dtype)\n",
    "for i, m in enumerate(np_data): \n",
    "    volume[:, :, i] = m\n",
    "\n",
    "# take max over z\n",
    "maxproj = np.max(volume, 2)\n",
    "\n",
    "# write result\n",
    "imsave(os.path.join(data_dir, 'c003_max_projection.tif'), maxproj)"
   ]
  },
  {
   "cell_type": "code",
   "execution_count": 33,
   "metadata": {},
   "outputs": [],
   "source": [
    "# define the aux section\n",
    "# fake this by just including one of them\n",
    "aux = [\n",
    "    {\n",
    "        \"type\": \"dapi\",\n",
    "        \"file\": os.path.join(data_dir, 'c003_max_projection.tif'),\n",
    "        \"format\": \"TIFF\"\n",
    "    }\n",
    "]"
   ]
  },
  {
   "cell_type": "code",
   "execution_count": 35,
   "metadata": {},
   "outputs": [],
   "source": [
    "with open(os.path.join(data_dir, 'org.json'), 'w') as f:\n",
    "    json.dump(dict(data=data, aux=aux, metadata=metadata), f)"
   ]
  },
  {
   "cell_type": "markdown",
   "metadata": {},
   "source": [
    "# Load the new spec into Starfish"
   ]
  },
  {
   "cell_type": "code",
   "execution_count": 6,
   "metadata": {},
   "outputs": [],
   "source": [
    "from starfish.io import Stack"
   ]
  },
  {
   "cell_type": "code",
   "execution_count": 36,
   "metadata": {},
   "outputs": [],
   "source": [
    "s = Stack()\n",
    "s.read(os.path.join(data_dir, 'experiment.json'))"
   ]
  }
 ],
 "metadata": {
  "kernelspec": {
   "display_name": "Python 3",
   "language": "python",
   "name": "python3"
  },
  "language_info": {
   "codemirror_mode": {
    "name": "ipython",
    "version": 3
   },
   "file_extension": ".py",
   "mimetype": "text/x-python",
   "name": "python",
   "nbconvert_exporter": "python",
   "pygments_lexer": "ipython3",
   "version": "3.6.5"
  }
 },
 "nbformat": 4,
 "nbformat_minor": 2
}
