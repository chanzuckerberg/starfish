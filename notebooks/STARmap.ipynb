{
 "cells": [
  {
   "cell_type": "markdown",
   "metadata": {},
   "source": [
    "## Load Data"
   ]
  },
  {
   "cell_type": "code",
   "execution_count": null,
   "metadata": {},
   "outputs": [],
   "source": [
    "from functools import partial\n",
    "\n",
    "import numpy as np\n",
    "\n",
    "import starfish\n",
    "import starfish.data\n",
    "from starfish.types import Axes"
   ]
  },
  {
   "cell_type": "code",
   "execution_count": null,
   "metadata": {},
   "outputs": [],
   "source": [
    "%gui qt"
   ]
  },
  {
   "cell_type": "code",
   "execution_count": null,
   "metadata": {},
   "outputs": [],
   "source": [
    "experiment = starfish.data.STARmap(use_test_data=True)\n",
    "stack = experiment['fov_000'].get_image('primary')"
   ]
  },
  {
   "cell_type": "code",
   "execution_count": null,
   "metadata": {},
   "outputs": [],
   "source": [
    "# look at the channel/round projection\n",
    "ch_r_projection = stack.max_proj(Axes.CH, Axes.ROUND)"
   ]
  },
  {
   "cell_type": "code",
   "execution_count": null,
   "metadata": {},
   "outputs": [],
   "source": [
    "starfish.display(ch_r_projection)"
   ]
  },
  {
   "cell_type": "markdown",
   "metadata": {},
   "source": [
    "It actually looks like there is a small shift approximately the size of a spot in the `x = -y` direction for at least one (round, channel) pair (see top left corner for most obvious manifestation).\n",
    "\n",
    "Attempt a translation registration to fix. "
   ]
  },
  {
   "cell_type": "code",
   "execution_count": null,
   "metadata": {},
   "outputs": [],
   "source": [
    "# Starmap only requires translation. Verify that things are registered with a quick \n",
    "# similarity registration. \n",
    "\n",
    "from skimage.feature import register_translation\n",
    "from skimage.transform import warp\n",
    "from skimage.transform import SimilarityTransform\n",
    "\n",
    "def _register_imagestack(target_image, reference_image, upsample_factor=5):\n",
    "    target_image = np.squeeze(target_image)\n",
    "    reference_image = np.squeeze(reference_image)\n",
    "    shift, error, phasediff = register_translation(target_image, reference_image, upsample_factor=1)\n",
    "    return SimilarityTransform(translation=shift)\n",
    "\n",
    "# identify the locations of all the spots by max projecting over z\n",
    "projection = stack.max_proj(Axes.CH, Axes.ZPLANE)\n",
    "reference_image = projection.sel({Axes.ROUND: 1}).xarray\n",
    "\n",
    "# learn the transformations for each stack\n",
    "register_imagestack = partial(\n",
    "    _register_imagestack, reference_image=reference_image, upsample_factor=5\n",
    ")\n",
    "transforms = projection.transform(register_imagestack, group_by={Axes.ROUND}, n_processes=1)"
   ]
  },
  {
   "cell_type": "code",
   "execution_count": null,
   "metadata": {},
   "outputs": [],
   "source": [
    "[t.translation for (t, ind) in transforms]"
   ]
  },
  {
   "cell_type": "markdown",
   "metadata": {},
   "source": [
    "Unfortunately, simple translation registration can't improve upon this problem significantly. To account for this, a small local search will be allowed in the spot finding step to match spots across (round, channel) volumes."
   ]
  },
  {
   "cell_type": "markdown",
   "metadata": {},
   "source": [
    "The first stage of the STARmap pipeline is to align the intensity distributions across channels and rounds. Here we calculate a reference distribution by sorting each image's intensities in increasing order and averaging the ordered intensities across rounds and channels. All (z, y, x) volumes from each round and channel are quantile normalized against this reference. "
   ]
  },
  {
   "cell_type": "code",
   "execution_count": null,
   "metadata": {},
   "outputs": [],
   "source": [
    "mh = starfish.image.Filter.MatchHistograms({Axes.CH, Axes.ROUND})\n",
    "stack = mh.run(stack, in_place=True, verbose=True, n_processes=8)"
   ]
  },
  {
   "cell_type": "markdown",
   "metadata": {},
   "source": [
    "Finally, a local blob detector that finds spots in each (z, y, x) volume separately is applied. The user selects an \"anchor round\" and spots found in all channels of that round are used to seed a local search across other rounds and channels. The closest spot is selected, and any spots outside the search radius (here 10 pixels) is discarded.\n",
    "\n",
    "The Spot finder returns an IntensityTable containing all spots from round zero. Note that many of the spots do _not_ identify spots in other rounds and channels and will therefore fail decoding. Because of the stringency built into the STARmap codebook, it is OK to be relatively permissive with the spot finding parameters for this assay."
   ]
  },
  {
   "cell_type": "code",
   "execution_count": null,
   "metadata": {},
   "outputs": [],
   "source": [
    "lsbd = starfish.spots._detector.local_search_blob_detector.LocalSearchBlobDetector(\n",
    "    min_sigma=1,\n",
    "    max_sigma=8,\n",
    "    num_sigma=10,\n",
    "    threshold=np.percentile(np.ravel(substack.xarray.values), 95),\n",
    "    exclude_border=2,\n",
    "    anchor_round=0,\n",
    "    search_radius=10,\n",
    ")\n",
    "intensities = lsbd.run(stack, n_processes=8)"
   ]
  },
  {
   "cell_type": "markdown",
   "metadata": {},
   "source": [
    "This viewer call displays all detected spots, regardless of whether or not they decode. "
   ]
  },
  {
   "cell_type": "code",
   "execution_count": null,
   "metadata": {},
   "outputs": [],
   "source": [
    "viewer = starfish.display(stack, intensities, radius_multiplier=0.1, mask_intensities=0.01)"
   ]
  },
  {
   "cell_type": "markdown",
   "metadata": {},
   "source": [
    "Next, spots are decoded, and only spots that pass the decoding stage are displayed. "
   ]
  },
  {
   "cell_type": "code",
   "execution_count": null,
   "metadata": {},
   "outputs": [],
   "source": [
    "decoded = experiment.codebook.decode_per_round_max(intensities.fillna(0))\n",
    "decode_mask = decoded['target'] != 'nan'"
   ]
  },
  {
   "cell_type": "code",
   "execution_count": null,
   "metadata": {},
   "outputs": [],
   "source": [
    "viewer = starfish.display(stack, decoded[decode_mask], radius_multiplier=0.1, mask_intensities=0.1)"
   ]
  }
 ],
 "metadata": {
  "kernelspec": {
   "display_name": "Python 3",
   "language": "python",
   "name": "python3"
  },
  "language_info": {
   "codemirror_mode": {
    "name": "ipython",
    "version": 3
   },
   "file_extension": ".py",
   "mimetype": "text/x-python",
   "name": "python",
   "nbconvert_exporter": "python",
   "pygments_lexer": "ipython3",
   "version": "3.6.5"
  }
 },
 "nbformat": 4,
 "nbformat_minor": 2
}