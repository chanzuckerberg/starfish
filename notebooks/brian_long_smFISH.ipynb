{
 "cells": [
  {
   "cell_type": "markdown",
   "metadata": {},
   "source": [
    "# Reproduce Brian Long's results with Starfish\n",
    "\n",
    "The `brian_long_smFISH.zip` file needed to follow along with this notebook can be downloaded [here]()\n",
    "\n",
    "This notebook walks through a work flow that reproduces the smFISH result for one field of view using the starfish package. \n",
    "It assumes that you have unzipped `brian_long_smFISH.zip` in the same directory as this notebook. Thus, you should see:\n",
    "\n",
    "raw/\n",
    "brian_long_smFISH.ipynb"
   ]
  },
  {
   "cell_type": "code",
   "execution_count": 1,
   "metadata": {},
   "outputs": [],
   "source": [
    "import os\n",
    "from starfish.io import Stack\n",
    "import numpy as np"
   ]
  },
  {
   "cell_type": "code",
   "execution_count": 4,
   "metadata": {},
   "outputs": [
    {
     "name": "stdout",
     "output_type": "stream",
     "text": [
      "{\"version\": \"0.0.0\", \"hybridization_images\": \"hybridization.json\", \"auxiliary_images\": {\"nuclei\": {\"file\": \"img_000000000_Bandpass405_000.tif\", \"tile_shape\": [2048, 2048], \"tile_format\": \"TIFF\", \"coordinates\": {\"x\": [0.0, 0.0001], \"y\": [0.0, 0.0001]}}}}"
     ]
    }
   ],
   "source": [
    "cat $experiment_json"
   ]
  },
  {
   "cell_type": "code",
   "execution_count": 80,
   "metadata": {},
   "outputs": [],
   "source": [
    "# package this up same as before\n",
    "experiment_json = os.path.expanduser('/Users/ajc/google_drive/starfish/data/brian_long_smFISH/experiment.json')"
   ]
  },
  {
   "cell_type": "code",
   "execution_count": 81,
   "metadata": {},
   "outputs": [],
   "source": [
    "s = Stack()\n",
    "s.read(experiment_json)"
   ]
  },
  {
   "cell_type": "code",
   "execution_count": 4,
   "metadata": {},
   "outputs": [],
   "source": [
    "# brian's data is uint, but starfish loads it as floats. Cast it to int here, which does not cause any loss of precision. \n",
    "s.image._data = s.image._data.astype(np.uint16)\n",
    "istack = s.image"
   ]
  },
  {
   "cell_type": "code",
   "execution_count": 7,
   "metadata": {},
   "outputs": [
    {
     "data": {
      "text/plain": [
       "OrderedDict([(<Indices.HYB: 'hyb'>, 1),\n",
       "             (<Indices.CH: 'ch'>, 3),\n",
       "             (<Indices.Z: 'z'>, 34),\n",
       "             ('y', 2048),\n",
       "             ('x', 2048)])"
      ]
     },
     "execution_count": 7,
     "metadata": {},
     "output_type": "execute_result"
    }
   ],
   "source": [
    "# this doesn't work, do we want this abstraction? \n",
    "# s.image.dtype"
   ]
  },
  {
   "cell_type": "markdown",
   "metadata": {},
   "source": [
    "Image processing function list:\n",
    "\n",
    "1. clip & floor (at 10th percentile)\n",
    "  1. `starfish.transform.threshold` or `.clip`\n",
    "  2. Also called _after_ bandpass. \n",
    "2. trackpy bandpass\n",
    "  1. `filters.bandpass`\n",
    "4. gaussian filter (over z) \n",
    "  1. `starfish.filters.gaussian`. The skimage function supports nd images, so we just need to adjust the object in starfish. \n",
    "5. call peak locations (trackpy locate)\n",
    "  1. `starfish.starfish.spots.crocker-grier` OR `starfish.starfish.spots.gaussian` (second class in this file)"
   ]
  }
 ],
 "metadata": {
  "kernelspec": {
   "display_name": "Python 3",
   "language": "python",
   "name": "python3"
  },
  "language_info": {
   "codemirror_mode": {
    "name": "ipython",
    "version": 3
   },
   "file_extension": ".py",
   "mimetype": "text/x-python",
   "name": "python",
   "nbconvert_exporter": "python",
   "pygments_lexer": "ipython3",
   "version": "3.6.5"
  }
 },
 "nbformat": 4,
 "nbformat_minor": 2
}
