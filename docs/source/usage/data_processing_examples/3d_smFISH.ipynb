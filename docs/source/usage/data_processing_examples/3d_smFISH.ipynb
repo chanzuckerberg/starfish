{
  "cells": [
    {
      "cell_type": "code",
      "execution_count": null,
      "metadata": {
        "collapsed": false
      },
      "outputs": [],
      "source": [
        "%matplotlib inline"
      ]
    },
    {
      "cell_type": "markdown",
      "metadata": {},
      "source": [
        "\nSingle Field of View for sequential single-molecule FISH processed in 3d\n========================================================================\n\nThis notebook walks through a work flow that analyzes one field of view of a mouse gene panel from\nthe Allen Institute for Cell Science, using the starfish package.\n\n"
      ]
    },
    {
      "cell_type": "code",
      "execution_count": null,
      "metadata": {
        "collapsed": false
      },
      "outputs": [],
      "source": [
        "from typing import Optional, Tuple\nfrom IPython import get_ipython\n\nimport starfish\nimport starfish.data\nfrom starfish import FieldOfView, IntensityTable\n\n# equivalent to %gui qt\nipython = get_ipython()\nipython.magic(\"gui qt5\")"
      ]
    },
    {
      "cell_type": "markdown",
      "metadata": {},
      "source": [
        "Define image filters\n--------------------\nThe 3d smFISH workflow run by the Allen runs a bandpass filter to remove high and low frequency\nsignal and blurs over z with a 1-pixel gaussian to smooth the signal over the z-axis.\n\nlow-intensity signal is (stringently) clipped from the images before and after these filters.\n\n"
      ]
    },
    {
      "cell_type": "code",
      "execution_count": null,
      "metadata": {
        "collapsed": false
      },
      "outputs": [],
      "source": [
        "# bandpass filter to remove cellular background and camera noise\nbandpass = starfish.image.Filter.Bandpass(lshort=.5, llong=7, threshold=0.0)\n\n# gaussian blur to smooth z-axis\nglp = starfish.image.Filter.GaussianLowPass(\n    sigma=(1, 0, 0),\n    is_volume=True\n)\n\n# pre-filter clip to remove low-intensity background signal\nclip1 = starfish.image.Filter.Clip(p_min=50, p_max=100)\n\n# post-filter clip to eliminate all but the highest-intensity peaks\nclip2 = starfish.image.Filter.Clip(p_min=99, p_max=100, is_volume=True)"
      ]
    },
    {
      "cell_type": "markdown",
      "metadata": {},
      "source": [
        "Define a spot detection method\n------------------------------\nSpots are detected using a spot finder based on trackpy's locate method, which identifies\nlocal intensity maxima, and spots are matched to the gene they represent by looking them up in a\ncodebook that records which (round, channel) matches which gene target.\n\n"
      ]
    },
    {
      "cell_type": "code",
      "execution_count": null,
      "metadata": {
        "collapsed": false
      },
      "outputs": [],
      "source": [
        "tlmpf = starfish.spots.SpotFinder.TrackpyLocalMaxPeakFinder(\n    spot_diameter=5,  # must be odd integer\n    min_mass=0.02,\n    max_size=2,  # this is max radius\n    separation=7,\n    noise_size=0.65,  # this is not used because preprocess is False\n    preprocess=False,\n    percentile=10,  # this is irrelevant when min_mass, spot_diameter, and max_size are set properly\n    verbose=True,\n    is_volume=True,\n)"
      ]
    },
    {
      "cell_type": "markdown",
      "metadata": {},
      "source": [
        "Construct the pipeline\n----------------------\n\n"
      ]
    },
    {
      "cell_type": "code",
      "execution_count": null,
      "metadata": {
        "collapsed": false
      },
      "outputs": [],
      "source": [
        "def processing_pipeline(\n    experiment: starfish.Experiment,\n    fov_name: str,\n    n_processes: Optional[int]=None\n) -> Tuple[starfish.ImageStack, starfish.IntensityTable]:\n    \"\"\"Process a single field of view of an experiment\n\n    Parameters\n    ----------\n    experiment : starfish.Experiment\n        starfish experiment containing fields of view to analyze\n    fov_name : str\n        name of the field of view to process\n    n_processes : int\n\n    Returns\n    -------\n    starfish.IntensityTable :\n        decoded IntensityTable containing spots matched to the genes they are hybridized against\n    \"\"\"\n\n    print(\"Loading images...\")\n    primary_image = experiment[fov_name].get_image(FieldOfView.PRIMARY_IMAGES)\n    all_intensities = list()\n    codebook = experiment.codebook\n\n    for primary_image in experiment[fov_name].iterate_image_type(FieldOfView.PRIMARY_IMAGES):\n\n        print(\"Filtering images...\")\n        filter_kwargs = dict(\n            in_place=True,\n            verbose=True,\n            n_processes=n_processes\n        )\n        clip1.run(primary_image, **filter_kwargs)\n        bandpass.run(primary_image, **filter_kwargs)\n        glp.run(primary_image, **filter_kwargs)\n        clip2.run(primary_image, **filter_kwargs)\n\n        print(\"Calling spots...\")\n        spot_attributes = tlmpf.run(primary_image)\n        all_intensities.append(spot_attributes)\n\n    spot_attributes = IntensityTable.concatanate_intensity_tables(all_intensities)\n\n    print(\"Decoding spots...\")\n    decoded = codebook.decode_per_round_max(spot_attributes)\n    decoded = decoded[decoded[\"total_intensity\"] > .025]\n\n    return primary_image, decoded"
      ]
    },
    {
      "cell_type": "markdown",
      "metadata": {},
      "source": [
        "Load data, run pipeline, display results\n----------------------------------------\n\n"
      ]
    },
    {
      "cell_type": "code",
      "execution_count": null,
      "metadata": {
        "collapsed": false
      },
      "outputs": [],
      "source": [
        "experiment = starfish.data.allen_smFISH(use_test_data=True)\n\nimage, intensities = processing_pipeline(experiment, fov_name='fov_001')\n\n# uncomment the below line to visualize the output with the spot calls.\n# viewer = starfish.display(image, intensities)"
      ]
    }
  ],
  "metadata": {
    "kernelspec": {
      "display_name": "Python 3",
      "language": "python",
      "name": "python3"
    },
    "language_info": {
      "codemirror_mode": {
        "name": "ipython",
        "version": 3
      },
      "file_extension": ".py",
      "mimetype": "text/x-python",
      "name": "python",
      "nbconvert_exporter": "python",
      "pygments_lexer": "ipython3",
      "version": "3.6.5"
    }
  },
  "nbformat": 4,
  "nbformat_minor": 0
}